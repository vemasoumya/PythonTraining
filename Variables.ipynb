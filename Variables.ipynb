{
 "cells": [
  {
   "cell_type": "markdown",
   "metadata": {},
   "source": [
    "Chapter 2\n",
    "1.  Address space\n",
    "2.  Variable assignment\n",
    "3.  Naming rules\n",
    "4.  More assignment rules\n",
    "5.  Computations"
   ]
  },
  {
   "cell_type": "code",
   "execution_count": 1,
   "metadata": {},
   "outputs": [
    {
     "data": {
      "text/plain": [
       "2135629411952"
      ]
     },
     "execution_count": 1,
     "metadata": {},
     "output_type": "execute_result"
    }
   ],
   "source": [
    "#address space where string is stored is stored\n",
    "id('Hello World')"
   ]
  },
  {
   "cell_type": "code",
   "execution_count": 2,
   "metadata": {},
   "outputs": [
    {
     "name": "stdout",
     "output_type": "stream",
     "text": [
      "May\n",
      "18\n",
      "2135563205744\n",
      "2135552230160\n"
     ]
    }
   ],
   "source": [
    "#variable assignment\n",
    "month=\"May\"\n",
    "age=18\n",
    "print(month)\n",
    "print(age)\n",
    "print(id(month))\n",
    "print(id(age))"
   ]
  },
  {
   "cell_type": "markdown",
   "metadata": {},
   "source": [
    "Variable naming rules:\n",
    "- Name of Python variable should start with either an alphabet (lower or upper case) or underscore (_). More than one alpha-numeric characters or underscores may follow.\n",
    "\n",
    "- Use of any keyword as Python variable is not allowed, as keywords have a predefined meaning.\n",
    "\n",
    "- Name of a variable in Python is case sensitive. As a result, age and Age cannot be used interchangeably.\n",
    "\n",
    "- You should choose the name of variable that is mnemonic, such that it indicates the purpose. It should not be very short, but not vary lengthy either."
   ]
  },
  {
   "cell_type": "code",
   "execution_count": 6,
   "metadata": {},
   "outputs": [
    {
     "name": "stdout",
     "output_type": "stream",
     "text": [
      "10 25.5 Hyderabad\n",
      "['Physics', 'Maths', 'English']\n",
      "{'Rohit': 50, 'Kiran': 60, 'Lata': 70}\n"
     ]
    }
   ],
   "source": [
    "#More assignment examples\n",
    "counter = 10 # integer assignment\n",
    "price = 25.50 # float assignment\n",
    "city = \"Hyderabad\" # String assignment\n",
    "subjects = [\"Physics\", \"Maths\", \"English\"] # List assignment\n",
    "mark_list = {\"Rohit\":50, \"Kiran\":60, \"Lata\":70} # dictionary\n",
    "print(counter,price,city)\n",
    "print(subjects)\n",
    "print(mark_list)"
   ]
  },
  {
   "cell_type": "code",
   "execution_count": 7,
   "metadata": {},
   "outputs": [
    {
     "name": "stdout",
     "output_type": "stream",
     "text": [
      "200\n"
     ]
    }
   ],
   "source": [
    "#computations\n",
    "width=10\n",
    "height=20\n",
    "area=width*height\n",
    "print(area)"
   ]
  }
 ],
 "metadata": {
  "kernelspec": {
   "display_name": "ptenv",
   "language": "python",
   "name": "python3"
  },
  "language_info": {
   "codemirror_mode": {
    "name": "ipython",
    "version": 3
   },
   "file_extension": ".py",
   "mimetype": "text/x-python",
   "name": "python",
   "nbconvert_exporter": "python",
   "pygments_lexer": "ipython3",
   "version": "3.10.11"
  },
  "orig_nbformat": 4
 },
 "nbformat": 4,
 "nbformat_minor": 2
}
