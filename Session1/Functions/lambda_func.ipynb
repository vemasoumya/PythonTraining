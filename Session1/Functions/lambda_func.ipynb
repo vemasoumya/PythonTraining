{
 "cells": [
  {
   "cell_type": "code",
   "execution_count": 6,
   "metadata": {},
   "outputs": [],
   "source": [
    "def squarefunc(item):\n",
    "    return item * item "
   ]
  },
  {
   "cell_type": "markdown",
   "metadata": {},
   "source": [
    "Lamda functions"
   ]
  },
  {
   "cell_type": "code",
   "execution_count": 7,
   "metadata": {},
   "outputs": [
    {
     "name": "stdout",
     "output_type": "stream",
     "text": [
      "100\n"
     ]
    }
   ],
   "source": [
    "func = lambda x: x * x\n",
    "print(func(10))"
   ]
  },
  {
   "cell_type": "code",
   "execution_count": 8,
   "metadata": {},
   "outputs": [
    {
     "name": "stdout",
     "output_type": "stream",
     "text": [
      "[1, 3, 5, 9]\n",
      "[1, 9, 25, 81]\n",
      "[1, 9, 25, 81]\n",
      "[1, 9, 25, 81]\n"
     ]
    }
   ],
   "source": [
    "l1 = [1,3,5,9]\n",
    "l2 = [squarefunc(i) for i in l1]\n",
    "l3 = [func(i) for i in l1]\n",
    "l4 = [i*i  for i in l1]\n",
    "print(l1)\n",
    "print(l2)\n",
    "print(l3)\n",
    "print(l4)"
   ]
  },
  {
   "cell_type": "markdown",
   "metadata": {},
   "source": [
    "MAP function with labda "
   ]
  },
  {
   "cell_type": "code",
   "execution_count": 12,
   "metadata": {},
   "outputs": [
    {
     "data": {
      "text/plain": [
       "[1, 9, 25, 81]"
      ]
     },
     "execution_count": 12,
     "metadata": {},
     "output_type": "execute_result"
    }
   ],
   "source": [
    "#map \n",
    "list(map(func,l1))\n",
    "\n",
    "#print(l5)"
   ]
  },
  {
   "cell_type": "code",
   "execution_count": 13,
   "metadata": {},
   "outputs": [
    {
     "name": "stdout",
     "output_type": "stream",
     "text": [
      "[16, 32, 48, 64, 80, 96, 112, 128, 144]\n"
     ]
    }
   ],
   "source": [
    "a1 = [i * 6 for i in range(1,10)]\n",
    "a2 = [i * 10 for i in range(1,10)]\n",
    "a3sum = list(map(lambda x, y : x + y, a1, a2))\n",
    "print(a3sum)\n"
   ]
  },
  {
   "cell_type": "code",
   "execution_count": 14,
   "metadata": {},
   "outputs": [
    {
     "name": "stdout",
     "output_type": "stream",
     "text": [
      "['raj', 'Ravi']\n"
     ]
    }
   ],
   "source": [
    "#filter functions\n",
    "s1 = ['raj', 'Ravi', 'soumya']\n",
    "s2 = list(filter(lambda x : x[0].lower() == 'r', s1 ))\n",
    "print(s2)"
   ]
  },
  {
   "cell_type": "code",
   "execution_count": 15,
   "metadata": {},
   "outputs": [
    {
     "name": "stdout",
     "output_type": "stream",
     "text": [
      "[(1, 123, 'Ravi'), (2, 456, 'raj'), (3, 789, 'soumya')]\n"
     ]
    }
   ],
   "source": [
    "#zip \n",
    "emp = [1,2,3]\n",
    "phn = (123,456, 789)\n",
    "name = ['Ravi', 'raj', 'soumya']\n",
    "print(list(zip(emp,phn,name)))"
   ]
  },
  {
   "cell_type": "code",
   "execution_count": 18,
   "metadata": {},
   "outputs": [
    {
     "name": "stdout",
     "output_type": "stream",
     "text": [
      "16\n",
      "16\n"
     ]
    }
   ],
   "source": [
    "#reduce functions\n",
    "from functools import reduce\n",
    "l1 = [1,3,5,7]\n",
    "def accumulator(accum, item):\n",
    "    return accum + item \n",
    "\n",
    "print (reduce(accumulator, l1, 0 ))\n",
    "print (reduce(lambda x, y : x + y, l1, 0 ))"
   ]
  }
 ],
 "metadata": {
  "kernelspec": {
   "display_name": ".venv",
   "language": "python",
   "name": "python3"
  },
  "language_info": {
   "codemirror_mode": {
    "name": "ipython",
    "version": 3
   },
   "file_extension": ".py",
   "mimetype": "text/x-python",
   "name": "python",
   "nbconvert_exporter": "python",
   "pygments_lexer": "ipython3",
   "version": "3.7.8"
  },
  "orig_nbformat": 4
 },
 "nbformat": 4,
 "nbformat_minor": 2
}
